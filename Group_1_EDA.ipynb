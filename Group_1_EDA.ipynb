{
  "nbformat": 4,
  "nbformat_minor": 0,
  "metadata": {
    "colab": {
      "provenance": [],
      "include_colab_link": true
    },
    "kernelspec": {
      "name": "python3",
      "display_name": "Python 3"
    },
    "language_info": {
      "name": "python"
    }
  },
  "cells": [
    {
      "cell_type": "markdown",
      "metadata": {
        "id": "view-in-github",
        "colab_type": "text"
      },
      "source": [
        "<a href=\"https://colab.research.google.com/github/EurousZhao/Group-1/blob/main/Group_1_EDA.ipynb\" target=\"_parent\"><img src=\"https://colab.research.google.com/assets/colab-badge.svg\" alt=\"Open In Colab\"/></a>"
      ]
    },
    {
      "cell_type": "markdown",
      "source": [
        "# Draft (Andre)"
      ],
      "metadata": {
        "id": "QA1q-GlCrHil"
      }
    },
    {
      "cell_type": "code",
      "source": [
        "df_energy = df_energy.drop(['generation fossil coal-derived gas','generation fossil oil shale',\n",
        "                            'generation fossil peat', 'generation geothermal',\n",
        "                            'generation hydro pumped storage aggregated', 'generation marine',\n",
        "                            'generation wind offshore'],\n",
        "                            axis=1)"
      ],
      "metadata": {
        "id": "rc9g6EQiigw6"
      },
      "execution_count": null,
      "outputs": []
    },
    {
      "cell_type": "code",
      "source": [
        "df_energy = df_energy.drop(['forecast wind offshore eday ahead',\n",
        "                            'total load forecast', 'forecast solar day ahead',\n",
        "                            'forecast wind onshore day ahead'])"
      ],
      "metadata": {
        "id": "i3RruA9MjiJh"
      },
      "execution_count": null,
      "outputs": []
    },
    {
      "cell_type": "code",
      "source": [
        "# time as index\n",
        "df_weather['time'] = pd.to_datetime(df_weather['dt_iso'], utc=True, infer_datetime_format=True)\n",
        "df_weather = df_weather.drop(['dt_iso'], axis=1)\n",
        "df_weather = df_weather.set_index('time')"
      ],
      "metadata": {
        "id": "LeylLcR4juC-"
      },
      "execution_count": null,
      "outputs": []
    },
    {
      "cell_type": "markdown",
      "source": [
        "For weather"
      ],
      "metadata": {
        "id": "48zTM0uSj-Q0"
      }
    },
    {
      "cell_type": "code",
      "execution_count": null,
      "metadata": {
        "id": "xwmA0CSVieV-"
      },
      "outputs": [],
      "source": [
        "df_weather = df_weather.drop(['weather_main', 'weather_id',\n",
        "                              'weather_description', 'weather_icon'], axis=1)"
      ]
    },
    {
      "cell_type": "code",
      "source": [
        "to_convert = ['pressure', 'humidity', 'wind_speed', 'wind_deg', 'clouds_all', 'weather_id']\n",
        "\n",
        "for column in to_convert:\n",
        "  df_weather[column] = df_weather[column].astype(float)"
      ],
      "metadata": {
        "id": "lgQly5I8j_AI"
      },
      "execution_count": null,
      "outputs": []
    },
    {
      "cell_type": "code",
      "source": [
        "# remove duplicates so data matches\n",
        "\n",
        "cities = df_weather['city_name'].unique()\n",
        "grouped_weather = df_weather.groupby('city_name')\n",
        "print(df_energy.shape[0])\n",
        "for city in cities:\n",
        "    print(grouped_weather.get_group(city).shape[0])\n",
        "\n",
        "\n",
        "for city in cities:\n",
        "  print(df_weather.groupby('city_name').get_group(city).shape[0])"
      ],
      "metadata": {
        "id": "ttUQAS8Sj_07"
      },
      "execution_count": null,
      "outputs": []
    },
    {
      "cell_type": "markdown",
      "source": [
        "Extend our dataset"
      ],
      "metadata": {
        "id": "NJgsgi3YmR2q"
      }
    },
    {
      "cell_type": "markdown",
      "source": [
        "# EDA(Eurous)"
      ],
      "metadata": {
        "id": "_wzAacVhs04Z"
      }
    },
    {
      "cell_type": "code",
      "source": [],
      "metadata": {
        "id": "Jy9e5MMJs0j7"
      },
      "execution_count": null,
      "outputs": []
    },
    {
      "cell_type": "markdown",
      "source": [
        "# EDA"
      ],
      "metadata": {
        "id": "dJcce-iArOgM"
      }
    },
    {
      "cell_type": "code",
      "source": [],
      "metadata": {
        "id": "VPNxwJErrhdZ"
      },
      "execution_count": null,
      "outputs": []
    },
    {
      "cell_type": "markdown",
      "source": [],
      "metadata": {
        "id": "iR_VJD_Irg9d"
      }
    }
  ]
}